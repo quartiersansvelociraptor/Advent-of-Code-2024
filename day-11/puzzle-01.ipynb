{
 "cells": [
  {
   "cell_type": "code",
   "execution_count": 1,
   "metadata": {},
   "outputs": [
    {
     "name": "stdout",
     "output_type": "stream",
     "text": [
      "1 11\n",
      "2 15\n",
      "3 22\n",
      "4 35\n",
      "5 46\n",
      "6 70\n",
      "7 113\n",
      "8 171\n",
      "9 237\n",
      "10 364\n",
      "11 577\n",
      "12 856\n",
      "13 1332\n",
      "14 1967\n",
      "15 2976\n",
      "16 4512\n",
      "17 6872\n",
      "18 10613\n",
      "19 15787\n",
      "20 23936\n",
      "21 36804\n",
      "22 55546\n",
      "23 84587\n",
      "24 128199\n",
      "25 194482\n",
      "26 296714\n",
      "27 447957\n",
      "28 683614\n",
      "29 1038956\n",
      "30 1569681\n",
      "31 2395277\n",
      "32 3632181\n",
      "33 5518744\n",
      "34 8389040\n",
      "35 12708211\n",
      "36 19362469\n",
      "37 29368442\n",
      "38 44577427\n",
      "39 67844199\n",
      "40 102839767\n"
     ]
    },
    {
     "ename": "",
     "evalue": "",
     "output_type": "error",
     "traceback": [
      "\u001b[1;31mEl kernel se bloqueó al ejecutar código en la celda actual o en una celda anterior. \n",
      "\u001b[1;31mRevise el código de las celdas para identificar una posible causa del error. \n",
      "\u001b[1;31mHaga clic <a href='https://aka.ms/vscodeJupyterKernelCrash'>aquí</a> para obtener más información. \n",
      "\u001b[1;31mVea Jupyter <a href='command:jupyter.viewOutput'>log</a> para obtener más detalles."
     ]
    }
   ],
   "source": [
    "initial_arrangement = [0, 27, 5409930, 828979, 4471, 3, 68524, 170]\n",
    "n_blinks = 75\n",
    "n = 0\n",
    "\n",
    "while n < n_blinks:\n",
    "    n += 1\n",
    "    arrangement = []\n",
    "\n",
    "    for value in initial_arrangement:\n",
    "        if value == 0:\n",
    "            new_value = 1\n",
    "\n",
    "            arrangement.append(new_value)\n",
    "        elif len(str(value))%2 == 0:\n",
    "            num_str = str(value)\n",
    "            mid = len(num_str)//2\n",
    "            first_half = int(num_str[:mid])\n",
    "            second_half = int(num_str[mid:])\n",
    "\n",
    "            arrangement.append(first_half)\n",
    "            arrangement.append(second_half)\n",
    "        else:\n",
    "            new_value = value * 2024\n",
    "\n",
    "            arrangement.append(new_value)\n",
    "    \n",
    "    initial_arrangement = arrangement\n",
    "    print(n, len(arrangement))\n"
   ]
  }
 ],
 "metadata": {
  "kernelspec": {
   "display_name": "Python 3",
   "language": "python",
   "name": "python3"
  },
  "language_info": {
   "codemirror_mode": {
    "name": "ipython",
    "version": 3
   },
   "file_extension": ".py",
   "mimetype": "text/x-python",
   "name": "python",
   "nbconvert_exporter": "python",
   "pygments_lexer": "ipython3",
   "version": "3.12.1"
  }
 },
 "nbformat": 4,
 "nbformat_minor": 2
}
