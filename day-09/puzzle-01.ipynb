{
 "cells": [
  {
   "cell_type": "code",
   "execution_count": 53,
   "metadata": {},
   "outputs": [],
   "source": [
    "def read_file(path):\n",
    "    with open(path, \"r\") as readfile:\n",
    "        a = readfile.read()\n",
    "        lines = a.split(\"\\n\")\n",
    "    return lines[0]"
   ]
  },
  {
   "cell_type": "code",
   "execution_count": 54,
   "metadata": {},
   "outputs": [],
   "source": [
    "input = read_file(\"input-01.txt\")"
   ]
  },
  {
   "cell_type": "code",
   "execution_count": 55,
   "metadata": {},
   "outputs": [],
   "source": [
    "block = []\n",
    "i = 0\n",
    "\n",
    "for index, chiffre in enumerate(input):\n",
    "    chiffre = int(chiffre)\n",
    "    if (index%2 == 0):\n",
    "        while (chiffre > 0):\n",
    "            block.append([i])\n",
    "            chiffre -= 1\n",
    "        i += 1\n",
    "    else:\n",
    "        while (chiffre > 0):\n",
    "            block.append([])\n",
    "            chiffre -= 1"
   ]
  },
  {
   "cell_type": "code",
   "execution_count": 56,
   "metadata": {},
   "outputs": [],
   "source": [
    "block_reversed = block[::-1]\n",
    "block_reversed_trimmed = [sublist for sublist in block_reversed if sublist]"
   ]
  },
  {
   "cell_type": "code",
   "execution_count": 57,
   "metadata": {},
   "outputs": [],
   "source": [
    "block_new = []\n",
    "i = 0\n",
    "numbers = 0\n",
    "\n",
    "for value in block:\n",
    "    if len(value) != 0:\n",
    "        block_new.append(value)\n",
    "        numbers += 1\n",
    "    elif len(value) == 0:\n",
    "        block_new.append(block_reversed_trimmed[i])\n",
    "        i += 1\n",
    "\n",
    "block_new = block_new[:numbers]       "
   ]
  },
  {
   "cell_type": "code",
   "execution_count": 58,
   "metadata": {},
   "outputs": [
    {
     "name": "stdout",
     "output_type": "stream",
     "text": [
      "6386640365805\n"
     ]
    }
   ],
   "source": [
    "sum = 0\n",
    "for index, value in enumerate(block_new):\n",
    "    sum += (index*value[0])\n",
    "\n",
    "print(sum)"
   ]
  }
 ],
 "metadata": {
  "kernelspec": {
   "display_name": "Python 3",
   "language": "python",
   "name": "python3"
  },
  "language_info": {
   "codemirror_mode": {
    "name": "ipython",
    "version": 3
   },
   "file_extension": ".py",
   "mimetype": "text/x-python",
   "name": "python",
   "nbconvert_exporter": "python",
   "pygments_lexer": "ipython3",
   "version": "3.12.1"
  }
 },
 "nbformat": 4,
 "nbformat_minor": 2
}
