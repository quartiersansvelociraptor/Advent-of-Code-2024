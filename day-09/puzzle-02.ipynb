{
 "cells": [
  {
   "cell_type": "code",
   "execution_count": 2,
   "metadata": {},
   "outputs": [],
   "source": [
    "def read_file(path):\n",
    "    with open(path, \"r\") as readfile:\n",
    "        a = readfile.read()\n",
    "        lines = a.split(\"\\n\")\n",
    "    return lines[0]"
   ]
  },
  {
   "cell_type": "code",
   "execution_count": 3,
   "metadata": {},
   "outputs": [],
   "source": [
    "input = read_file(\"example-01.txt\")"
   ]
  },
  {
   "cell_type": "code",
   "execution_count": 4,
   "metadata": {},
   "outputs": [],
   "source": [
    "block = []\n",
    "block_ind = []\n",
    "i = 0\n",
    "\n",
    "for index, chiffre in enumerate(input):\n",
    "    chiffre = int(chiffre)\n",
    "    if chiffre == 0:\n",
    "        pass\n",
    "    elif (index%2 == 0):\n",
    "        while (chiffre > 0):\n",
    "            block_ind.append([i])\n",
    "            chiffre -= 1\n",
    "        block.append(block_ind)\n",
    "        i += 1\n",
    "    else:\n",
    "        while (chiffre > 0):\n",
    "            block_ind.append([])\n",
    "            chiffre -= 1\n",
    "        block.append(block_ind)\n",
    "    block_ind = []"
   ]
  },
  {
   "cell_type": "code",
   "execution_count": null,
   "metadata": {},
   "outputs": [
    {
     "data": {
      "text/plain": [
       "[[[0], [0]],\n",
       " [[9], [9]],\n",
       " [],\n",
       " [[1], [1], [1]],\n",
       " [[7], [7], [7]],\n",
       " [[2]],\n",
       " [[4], [4]],\n",
       " [],\n",
       " [[3], [3], [3]],\n",
       " [[2]],\n",
       " [[4], [4]],\n",
       " [[5], [5], [5], [5]],\n",
       " [[6], [6], [6], [6]],\n",
       " [[7], [7], [7]],\n",
       " [[8], [8], [8], [8]],\n",
       " [[9], [9]]]"
      ]
     },
     "execution_count": 14,
     "metadata": {},
     "output_type": "execute_result"
    }
   ],
   "source": [
    "block_reversed = block[::-1]\n",
    "block_reversed_trim = [sublist for sublist in block_reversed if len(sublist[0]) != 0]\n",
    "\n",
    "block_new = []\n",
    "numbers = 0\n",
    "\n",
    "for sublist in block:\n",
    "    if len(sublist[0]) != 0:\n",
    "        block_new.append(sublist)\n",
    "        numbers += len(sublist)\n",
    "    \n",
    "    elif len(sublist[0]) == 0:\n",
    "        for sublist_rev in block_reversed_trim:\n",
    "            if len(sublist_rev) <= len(sublist):\n",
    "                if len(sublist_rev) == len(sublist):\n",
    "                    block_new.append(sublist_rev)\n",
    "                    numbers += len(sublist_rev)\n",
    "                elif len(sublist_rev) < len(sublist):\n",
    "                    diff = len(sublist_rev) - len(sublist)\n",
    "                    block_new.append(sublist_rev)\n",
    "                    numbers += len(sublist_rev)\n",
    "                    while diff > 0:\n",
    "                        block_ind.append([])\n",
    "                        diff -= 1\n",
    "                    block_new.append(block_ind)\n",
    "                    block_ind = []\n",
    "\n",
    "                block_reversed_trim.remove(sublist_rev)\n",
    "                break"
   ]
  },
  {
   "cell_type": "code",
   "execution_count": 11,
   "metadata": {},
   "outputs": [
    {
     "data": {
      "text/plain": [
       "[[[0], [0]],\n",
       " [[9], [9]],\n",
       " [],\n",
       " [[1], [1], [1]],\n",
       " [[7], [7], [7]],\n",
       " [[2]],\n",
       " [[4], [4]],\n",
       " [],\n",
       " [[3], [3], [3]],\n",
       " [[2]],\n",
       " [[4], [4]],\n",
       " [[5], [5], [5], [5]],\n",
       " [[6], [6], [6], [6]],\n",
       " [[7], [7], [7]],\n",
       " [[8], [8], [8], [8]],\n",
       " [[9], [9]]]"
      ]
     },
     "execution_count": 11,
     "metadata": {},
     "output_type": "execute_result"
    }
   ],
   "source": [
    "block_new"
   ]
  }
 ],
 "metadata": {
  "kernelspec": {
   "display_name": "Python 3",
   "language": "python",
   "name": "python3"
  },
  "language_info": {
   "codemirror_mode": {
    "name": "ipython",
    "version": 3
   },
   "file_extension": ".py",
   "mimetype": "text/x-python",
   "name": "python",
   "nbconvert_exporter": "python",
   "pygments_lexer": "ipython3",
   "version": "3.12.1"
  }
 },
 "nbformat": 4,
 "nbformat_minor": 2
}
