{
 "cells": [
  {
   "cell_type": "code",
   "execution_count": 1,
   "metadata": {},
   "outputs": [],
   "source": [
    "def read_file(path):\n",
    "    with open(path, \"r\") as readfile:\n",
    "        a = readfile.read()\n",
    "        lines = a.split(\"\\n\")\n",
    "    return lines"
   ]
  },
  {
   "cell_type": "code",
   "execution_count": 2,
   "metadata": {},
   "outputs": [],
   "source": [
    "input = read_file(\"input-01.txt\")"
   ]
  },
  {
   "cell_type": "code",
   "execution_count": 3,
   "metadata": {},
   "outputs": [],
   "source": [
    "count = 0\n",
    "#LEFT TO RIGHT\n",
    "for ix, line in enumerate(input):\n",
    "    for iy, char in enumerate(line):\n",
    "        if char == \"X\" and (iy+3) < len(input[0]):\n",
    "            if line[iy+1] == \"M\" and line[iy+2] == \"A\" and line[iy+3] == \"S\":\n",
    "                count += 1"
   ]
  },
  {
   "cell_type": "code",
   "execution_count": 4,
   "metadata": {},
   "outputs": [],
   "source": [
    "#RIGHT TO LEFT\n",
    "for ix, line in enumerate(input):\n",
    "    for iy, char in enumerate(line):\n",
    "        if char == \"X\" and (iy-3)>=0:\n",
    "            if input[ix][iy-1] == \"M\" and input[ix][iy-2] == \"A\" and input[ix][iy-3] == \"S\":\n",
    "                count += 1"
   ]
  },
  {
   "cell_type": "code",
   "execution_count": 5,
   "metadata": {},
   "outputs": [],
   "source": [
    "#UP TO DOWN\n",
    "for ix, line in enumerate(input):\n",
    "    for iy, char in enumerate(line):\n",
    "        if char == \"X\" and (ix+3) < len(input):\n",
    "            if input[ix+1][iy] == \"M\" and input[ix+2][iy] == \"A\" and input[ix+3][iy] == \"S\":\n",
    "                count += 1"
   ]
  },
  {
   "cell_type": "code",
   "execution_count": 6,
   "metadata": {},
   "outputs": [],
   "source": [
    "#DOWN TO UP\n",
    "for ix, line in enumerate(input):\n",
    "    for iy, char in enumerate(line):\n",
    "        if char == \"X\" and (ix-3) >= 0:\n",
    "            if input[ix-1][iy] == \"M\" and input[ix-2][iy] == \"A\" and input[ix-3][iy] == \"S\":\n",
    "                count += 1"
   ]
  },
  {
   "cell_type": "code",
   "execution_count": 7,
   "metadata": {},
   "outputs": [],
   "source": [
    "#SOUTH EAST\n",
    "for ix, line in enumerate(input):\n",
    "    for iy, char in enumerate(line):\n",
    "        if char == \"X\" and (ix+3)<len(input) and (iy+3)<len(input[0]):\n",
    "            if input[ix+1][iy+1] == \"M\" and input[ix+2][iy+2] == \"A\" and input[ix+3][iy+3] == \"S\":\n",
    "                count += 1"
   ]
  },
  {
   "cell_type": "code",
   "execution_count": 8,
   "metadata": {},
   "outputs": [],
   "source": [
    "#SOUTH WEST\n",
    "for ix, line in enumerate(input):\n",
    "    for iy, char in enumerate(line):\n",
    "        if char == \"X\" and (ix+3)<len(input) and (iy-3)>=0:\n",
    "            if input[ix+1][iy-1] == \"M\" and input[ix+2][iy-2] == \"A\" and input[ix+3][iy-3] == \"S\":\n",
    "                count += 1"
   ]
  },
  {
   "cell_type": "code",
   "execution_count": 9,
   "metadata": {},
   "outputs": [],
   "source": [
    "#NORTH EAST\n",
    "for ix, line in enumerate(input):\n",
    "    for iy, char in enumerate(line):\n",
    "        if char == \"X\" and (ix-3)>=0 and (iy+3)<(len(input[0])):\n",
    "            if input[ix-1][iy+1] == \"M\" and input[ix-2][iy+2] == \"A\" and input[ix-3][iy+3] == \"S\":\n",
    "                count += 1"
   ]
  },
  {
   "cell_type": "code",
   "execution_count": 10,
   "metadata": {},
   "outputs": [],
   "source": [
    "#NORTH WEST\n",
    "for ix, line in enumerate(input):\n",
    "    for iy, char in enumerate(line):\n",
    "        if char == \"X\" and (ix-3)>=0 and (iy-3)>=0:\n",
    "            if input[ix-1][iy-1] == \"M\" and input[ix-2][iy-2] == \"A\" and input[ix-3][iy-3] == \"S\":\n",
    "                count += 1"
   ]
  },
  {
   "cell_type": "code",
   "execution_count": 11,
   "metadata": {},
   "outputs": [],
   "source": [
    "count;"
   ]
  }
 ],
 "metadata": {
  "kernelspec": {
   "display_name": "Python 3",
   "language": "python",
   "name": "python3"
  },
  "language_info": {
   "codemirror_mode": {
    "name": "ipython",
    "version": 3
   },
   "file_extension": ".py",
   "mimetype": "text/x-python",
   "name": "python",
   "nbconvert_exporter": "python",
   "pygments_lexer": "ipython3",
   "version": "3.12.1"
  }
 },
 "nbformat": 4,
 "nbformat_minor": 2
}
