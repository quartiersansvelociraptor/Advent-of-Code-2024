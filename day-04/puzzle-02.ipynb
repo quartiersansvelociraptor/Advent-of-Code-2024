{
 "cells": [
  {
   "cell_type": "code",
   "execution_count": 1,
   "metadata": {},
   "outputs": [],
   "source": [
    "def read_file(path):\n",
    "    with open(path, \"r\") as readfile:\n",
    "        a = readfile.read()\n",
    "        lines = a.split(\"\\n\")\n",
    "    return lines"
   ]
  },
  {
   "cell_type": "code",
   "execution_count": 2,
   "metadata": {},
   "outputs": [],
   "source": [
    "input = read_file(\"input-01.txt\")"
   ]
  },
  {
   "cell_type": "code",
   "execution_count": 3,
   "metadata": {},
   "outputs": [],
   "source": [
    "count = 0\n",
    "#LEFT\n",
    "for ix, line in enumerate(input):\n",
    "    for iy, char in enumerate(line):\n",
    "        if char == \"A\" and (iy-1)>=0 and (iy+1)<len(input[0]) and (ix-1)>=0 and (ix+1)<len(input):\n",
    "            if input[ix-1][iy-1] == \"M\" and input[ix+1][iy-1] == \"M\" and input[ix+1][iy+1] == \"S\" and input[ix-1][iy+1] == \"S\":\n",
    "                count += 1"
   ]
  },
  {
   "cell_type": "code",
   "execution_count": 4,
   "metadata": {},
   "outputs": [],
   "source": [
    "#DOWN\n",
    "for ix, line in enumerate(input):\n",
    "    for iy, char in enumerate(line):\n",
    "        if char == \"A\" and (iy-1)>=0 and (iy+1)<len(input[0]) and (ix-1)>=0 and (ix+1)<len(input):\n",
    "            if input[ix-1][iy-1] == \"S\" and input[ix+1][iy-1] == \"M\" and input[ix+1][iy+1] == \"M\" and input[ix-1][iy+1] == \"S\":\n",
    "                count += 1"
   ]
  },
  {
   "cell_type": "code",
   "execution_count": 5,
   "metadata": {},
   "outputs": [],
   "source": [
    "#RIGHT\n",
    "for ix, line in enumerate(input):\n",
    "    for iy, char in enumerate(line):\n",
    "        if char == \"A\" and (iy-1)>=0 and (iy+1)<len(input[0]) and (ix-1)>=0 and (ix+1)<len(input):\n",
    "            if input[ix-1][iy-1] == \"S\" and input[ix+1][iy-1] == \"S\" and input[ix+1][iy+1] == \"M\" and input[ix-1][iy+1] == \"M\":\n",
    "                count += 1"
   ]
  },
  {
   "cell_type": "code",
   "execution_count": 6,
   "metadata": {},
   "outputs": [],
   "source": [
    "#UP\n",
    "for ix, line in enumerate(input):\n",
    "    for iy, char in enumerate(line):\n",
    "        if char == \"A\" and (iy-1)>=0 and (iy+1)<len(input[0]) and (ix-1)>=0 and (ix+1)<len(input):\n",
    "            if input[ix-1][iy-1] == \"M\" and input[ix+1][iy-1] == \"S\" and input[ix+1][iy+1] == \"S\" and input[ix-1][iy+1] == \"M\":\n",
    "                count += 1"
   ]
  },
  {
   "cell_type": "code",
   "execution_count": 7,
   "metadata": {},
   "outputs": [],
   "source": [
    "count;"
   ]
  }
 ],
 "metadata": {
  "kernelspec": {
   "display_name": "Python 3",
   "language": "python",
   "name": "python3"
  },
  "language_info": {
   "codemirror_mode": {
    "name": "ipython",
    "version": 3
   },
   "file_extension": ".py",
   "mimetype": "text/x-python",
   "name": "python",
   "nbconvert_exporter": "python",
   "pygments_lexer": "ipython3",
   "version": "3.12.1"
  }
 },
 "nbformat": 4,
 "nbformat_minor": 2
}
