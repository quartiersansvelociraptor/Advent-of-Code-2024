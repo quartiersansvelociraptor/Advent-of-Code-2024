{
 "cells": [
  {
   "cell_type": "code",
   "execution_count": 56,
   "metadata": {},
   "outputs": [],
   "source": [
    "def read_file(path):\n",
    "    with open(path, \"r\") as readfile:\n",
    "        a = readfile.read()\n",
    "        lines = a.split(\"\\n\")\n",
    "    return lines"
   ]
  },
  {
   "cell_type": "code",
   "execution_count": 57,
   "metadata": {},
   "outputs": [],
   "source": [
    "input = read_file(\"example-04.txt\")"
   ]
  },
  {
   "cell_type": "code",
   "execution_count": 58,
   "metadata": {},
   "outputs": [],
   "source": [
    "letters = []\n",
    "\n",
    "for ix, line in enumerate(input):\n",
    "    for iy, char in enumerate(line):\n",
    "        if char != '.' and char not in letters:\n",
    "            letters.append(char)\n",
    "\n",
    "letters_dict = {key: [] for key in letters}\n",
    "letters_antinode_dict = {key: [] for key in letters}"
   ]
  },
  {
   "cell_type": "code",
   "execution_count": 59,
   "metadata": {},
   "outputs": [],
   "source": [
    "coord_ind = []\n",
    "coord_all = []\n",
    "\n",
    "for letter in letters:\n",
    "    for ix, line in enumerate(input):\n",
    "        for iy, char in enumerate(line):\n",
    "            if char == letter:\n",
    "                coord_ind.append((ix,iy))\n",
    "                coord_all.append((ix,iy))\n",
    "        \n",
    "    letters_dict.update({letter: coord_ind})\n",
    "    coord_ind = []"
   ]
  },
  {
   "cell_type": "code",
   "execution_count": 60,
   "metadata": {},
   "outputs": [
    {
     "data": {
      "text/plain": [
       "{'0': [(1, 8), (2, 5), (3, 7), (4, 4)], 'A': [(5, 6), (8, 8), (9, 9)]}"
      ]
     },
     "execution_count": 60,
     "metadata": {},
     "output_type": "execute_result"
    }
   ],
   "source": [
    "letters_dict"
   ]
  },
  {
   "cell_type": "code",
   "execution_count": 61,
   "metadata": {},
   "outputs": [],
   "source": [
    "coord_antinode_ind = []\n",
    "\n",
    "for letter in letters_dict.keys():\n",
    "    for coord_1 in letters_dict.get(letter):\n",
    "        for coord_2 in letters_dict.get(letter):\n",
    "            for i in range(-200, 200):\n",
    "                diff = (i*(coord_2[0] - coord_1[0]), i*(coord_2[1] - coord_1[1]))\n",
    "                new_coords = (coord_1[0] - diff[0], coord_1[1] - diff[1])\n",
    "                coord_antinode_ind.append(new_coords)\n",
    "    \n",
    "    letters_antinode_dict.update({letter: coord_antinode_ind})\n",
    "    coord_antinode_ind = []"
   ]
  },
  {
   "cell_type": "code",
   "execution_count": 69,
   "metadata": {},
   "outputs": [],
   "source": [
    "valid_antinode = []\n",
    "i = 0\n",
    "\n",
    "for letter in letters_antinode_dict.keys():\n",
    "    for antinode_coord in letters_antinode_dict.get(letter):\n",
    "        if (antinode_coord[0] >= 0) and (antinode_coord[0] < len(input)) and (antinode_coord[1] >= 0) and (antinode_coord[1] < len(input[0])) and (antinode_coord not in letters_dict.get(letter)):\n",
    "            valid_antinode.append(antinode_coord)\n",
    "            i = i +1 "
   ]
  },
  {
   "cell_type": "code",
   "execution_count": 70,
   "metadata": {},
   "outputs": [
    {
     "data": {
      "text/plain": [
       "60"
      ]
     },
     "execution_count": 70,
     "metadata": {},
     "output_type": "execute_result"
    }
   ],
   "source": [
    "len(valid_antinode)"
   ]
  },
  {
   "cell_type": "code",
   "execution_count": null,
   "metadata": {},
   "outputs": [
    {
     "data": {
      "text/plain": [
       "29"
      ]
     },
     "execution_count": 71,
     "metadata": {},
     "output_type": "execute_result"
    }
   ],
   "source": []
  }
 ],
 "metadata": {
  "kernelspec": {
   "display_name": "Python 3",
   "language": "python",
   "name": "python3"
  },
  "language_info": {
   "codemirror_mode": {
    "name": "ipython",
    "version": 3
   },
   "file_extension": ".py",
   "mimetype": "text/x-python",
   "name": "python",
   "nbconvert_exporter": "python",
   "pygments_lexer": "ipython3",
   "version": "3.12.1"
  }
 },
 "nbformat": 4,
 "nbformat_minor": 2
}
