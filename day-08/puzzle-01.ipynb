{
 "cells": [
  {
   "cell_type": "code",
   "execution_count": 8,
   "metadata": {},
   "outputs": [],
   "source": [
    "def read_file(path):\n",
    "    with open(path, \"r\") as readfile:\n",
    "        a = readfile.read()\n",
    "        lines = a.split(\"\\n\")\n",
    "    return lines"
   ]
  },
  {
   "cell_type": "code",
   "execution_count": 9,
   "metadata": {},
   "outputs": [],
   "source": [
    "input = read_file(\"input-01.txt\")"
   ]
  },
  {
   "cell_type": "code",
   "execution_count": 10,
   "metadata": {},
   "outputs": [],
   "source": [
    "letters = []\n",
    "\n",
    "for ix, line in enumerate(input):\n",
    "    for iy, char in enumerate(line):\n",
    "        if char != '.' and char not in letters:\n",
    "            letters.append(char)\n",
    "\n",
    "letters_dict = {key: [] for key in letters}\n",
    "letters_antinode_dict = {key: [] for key in letters}"
   ]
  },
  {
   "cell_type": "code",
   "execution_count": 11,
   "metadata": {},
   "outputs": [],
   "source": [
    "coord_ind = []\n",
    "coord_all = []\n",
    "\n",
    "for letter in letters:\n",
    "    for ix, line in enumerate(input):\n",
    "        for iy, char in enumerate(line):\n",
    "            if char == letter:\n",
    "                coord_ind.append((ix,iy))\n",
    "                coord_all.append((ix,iy))\n",
    "        \n",
    "    letters_dict.update({letter: coord_ind})\n",
    "    coord_ind = []"
   ]
  },
  {
   "cell_type": "code",
   "execution_count": 12,
   "metadata": {},
   "outputs": [],
   "source": [
    "coord_antinode_ind = []\n",
    "\n",
    "for letter in letters_dict.keys():\n",
    "    for coord_1 in letters_dict.get(letter):\n",
    "        for coord_2 in letters_dict.get(letter):\n",
    "            diff = (coord_2[0] - coord_1[0], coord_2[1] - coord_1[1])\n",
    "            new_coords = (coord_1[0] - diff[0], coord_1[1] - diff[1])\n",
    "            coord_antinode_ind.append(new_coords)\n",
    "    \n",
    "    letters_antinode_dict.update({letter: coord_antinode_ind})\n",
    "    coord_antinode_ind = []"
   ]
  },
  {
   "cell_type": "code",
   "execution_count": 13,
   "metadata": {},
   "outputs": [],
   "source": [
    "valid_antinode = []\n",
    "\n",
    "for letter in letters_antinode_dict.keys():\n",
    "    for coords in letters_antinode_dict.get(letter):\n",
    "        if (coords[0] >= 0) and (coords[0] < len(input)) and (coords[1] >= 0) and (coords[1] < len(input[0])) and (coords not in letters_dict.get(letter)):\n",
    "            valid_antinode.append(coords)"
   ]
  },
  {
   "cell_type": "code",
   "execution_count": 14,
   "metadata": {},
   "outputs": [
    {
     "data": {
      "text/plain": [
       "295"
      ]
     },
     "execution_count": 14,
     "metadata": {},
     "output_type": "execute_result"
    }
   ],
   "source": [
    "len(set(valid_antinode))"
   ]
  }
 ],
 "metadata": {
  "kernelspec": {
   "display_name": "Python 3",
   "language": "python",
   "name": "python3"
  },
  "language_info": {
   "codemirror_mode": {
    "name": "ipython",
    "version": 3
   },
   "file_extension": ".py",
   "mimetype": "text/x-python",
   "name": "python",
   "nbconvert_exporter": "python",
   "pygments_lexer": "ipython3",
   "version": "3.12.1"
  }
 },
 "nbformat": 4,
 "nbformat_minor": 2
}
