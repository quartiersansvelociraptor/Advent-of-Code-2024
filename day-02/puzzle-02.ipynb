{
 "cells": [
  {
   "cell_type": "code",
   "execution_count": 144,
   "metadata": {},
   "outputs": [],
   "source": [
    "import pandas as pd\n",
    "from operator import add"
   ]
  },
  {
   "cell_type": "code",
   "execution_count": 145,
   "metadata": {},
   "outputs": [],
   "source": [
    "file_obj = open(\"input-01.txt\", \"r\") \n",
    "  \n",
    "# splitting the file data into lines \n",
    "lines = [[x.rstrip('\\n')] for x in file_obj] \n",
    "file_obj.close() \n",
    "\n",
    "input = []\n",
    "\n",
    "for line in lines:\n",
    "    result = [int(num) for num in line[0].split()]\n",
    "    input.append(result)"
   ]
  },
  {
   "cell_type": "code",
   "execution_count": 146,
   "metadata": {},
   "outputs": [],
   "source": [
    "unsafe = []\n",
    "diff_list = []\n",
    "\n",
    "for line in input:\n",
    "    for index, value in enumerate(line):\n",
    "        if index > 0:\n",
    "            diff = value - line[index-1]\n",
    "            diff_list.append(diff)\n",
    "    if diff_list[0] > 0:\n",
    "        if not all(0 < diff_value <= 3 for diff_value in diff_list):\n",
    "            unsafe.append(line)\n",
    "    elif diff_list[0] < 0:\n",
    "        if not all(-3 <= diff_value < 0 for diff_value in diff_list):\n",
    "            unsafe.append(line)\n",
    "    if diff_list[0] == 0:\n",
    "        unsafe.append(line)\n",
    "        \n",
    "        \n",
    "    diff_list = []"
   ]
  },
  {
   "cell_type": "code",
   "execution_count": 147,
   "metadata": {},
   "outputs": [],
   "source": [
    "differences_all = []\n",
    "count_unsafe = 0\n",
    "\n",
    "for line in unsafe:\n",
    "    for index, value in enumerate(line):\n",
    "        line.pop(index)\n",
    "        differences = [line[i] - line[i+1] for i in range(len(line) - 1)]\n",
    "        differences_all.append(differences)\n",
    "        \n",
    "        line.insert(index, value)\n",
    "    for differences in differences_all:\n",
    "        if all(0 < diff_value <= 3 for diff_value in differences) or all(-3 <= diff_value < 0 for diff_value in differences):\n",
    "            count_unsafe += 1\n",
    "            break\n",
    "    differences_all = [] "
   ]
  },
  {
   "cell_type": "code",
   "execution_count": 148,
   "metadata": {},
   "outputs": [],
   "source": [
    "count = 0\n",
    "diff_list = []\n",
    "\n",
    "for line in input:\n",
    "    if len(line) == len(set(line)):\n",
    "        for index, value in enumerate(line):\n",
    "            if index > 0:\n",
    "                diff = value - line[index-1]\n",
    "                diff_list.append(diff)\n",
    "        if all(0 < diff_value <= 3 for diff_value in diff_list):\n",
    "            count += 1\n",
    "        if all(-3 <= diff_value < 0 for diff_value in diff_list):\n",
    "            count += 1\n",
    "        diff_list = [] "
   ]
  },
  {
   "cell_type": "code",
   "execution_count": 149,
   "metadata": {},
   "outputs": [
    {
     "data": {
      "text/plain": [
       "354"
      ]
     },
     "execution_count": 149,
     "metadata": {},
     "output_type": "execute_result"
    }
   ],
   "source": [
    "count_unsafe + count"
   ]
  }
 ],
 "metadata": {
  "kernelspec": {
   "display_name": "Python 3",
   "language": "python",
   "name": "python3"
  },
  "language_info": {
   "codemirror_mode": {
    "name": "ipython",
    "version": 3
   },
   "file_extension": ".py",
   "mimetype": "text/x-python",
   "name": "python",
   "nbconvert_exporter": "python",
   "pygments_lexer": "ipython3",
   "version": "3.12.1"
  }
 },
 "nbformat": 4,
 "nbformat_minor": 2
}
