{
 "cells": [
  {
   "cell_type": "code",
   "execution_count": 4,
   "metadata": {},
   "outputs": [],
   "source": [
    "import pandas as pd\n",
    "from operator import add"
   ]
  },
  {
   "cell_type": "code",
   "execution_count": 95,
   "metadata": {},
   "outputs": [],
   "source": [
    "file_obj = open(\"input-01.txt\", \"r\") \n",
    "  \n",
    "# splitting the file data into lines \n",
    "lines = [[x.rstrip('\\n')] for x in file_obj] \n",
    "file_obj.close() \n",
    "\n",
    "input = []\n",
    "\n",
    "for line in lines:\n",
    "    result = [int(num) for num in line[0].split()]\n",
    "    input.append(result)"
   ]
  },
  {
   "cell_type": "code",
   "execution_count": null,
   "metadata": {},
   "outputs": [],
   "source": [
    "count = 0\n",
    "diff_list = []\n",
    "\n",
    "for line in input:\n",
    "    if len(line) == len(set(line)):\n",
    "        for index, value in enumerate(line):\n",
    "            if index > 0:\n",
    "                diff = value - line[index-1]\n",
    "                diff_list.append(diff)\n",
    "        if all(0 < diff_value <= 3 for diff_value in diff_list):\n",
    "            count += 1\n",
    "        if all(-3 <= diff_value < 0 for diff_value in diff_list):\n",
    "            count += 1\n",
    "        diff_list = [] "
   ]
  },
  {
   "cell_type": "code",
   "execution_count": 97,
   "metadata": {},
   "outputs": [
    {
     "data": {
      "text/plain": [
       "287"
      ]
     },
     "execution_count": 97,
     "metadata": {},
     "output_type": "execute_result"
    }
   ],
   "source": [
    "count"
   ]
  }
 ],
 "metadata": {
  "kernelspec": {
   "display_name": "Python 3",
   "language": "python",
   "name": "python3"
  },
  "language_info": {
   "codemirror_mode": {
    "name": "ipython",
    "version": 3
   },
   "file_extension": ".py",
   "mimetype": "text/x-python",
   "name": "python",
   "nbconvert_exporter": "python",
   "pygments_lexer": "ipython3",
   "version": "3.12.1"
  }
 },
 "nbformat": 4,
 "nbformat_minor": 2
}
