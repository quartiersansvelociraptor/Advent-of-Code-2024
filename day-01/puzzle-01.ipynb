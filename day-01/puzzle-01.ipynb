{
 "cells": [
  {
   "cell_type": "code",
   "execution_count": 47,
   "metadata": {},
   "outputs": [],
   "source": [
    "import pandas as pd\n",
    "from operator import add"
   ]
  },
  {
   "cell_type": "code",
   "execution_count": 48,
   "metadata": {},
   "outputs": [],
   "source": [
    "def input_func(path):\n",
    "    input = pd.read_csv(path, header = None, sep = \" \").dropna(axis=1, how='all')\n",
    "    col_1 = input.iloc[:, 0].tolist()\n",
    "    col_2 = input.iloc[:, 1].tolist()\n",
    "    return col_1, col_2"
   ]
  },
  {
   "cell_type": "code",
   "execution_count": 59,
   "metadata": {},
   "outputs": [],
   "source": [
    "def abs_diff_func(input_1, input_2):\n",
    "    input_1.sort()\n",
    "    input_2.sort()\n",
    "    abs_diff = [abs(x-y) for x,y in zip (input_1, input_2)]\n",
    "    return abs_diff"
   ]
  },
  {
   "cell_type": "code",
   "execution_count": 65,
   "metadata": {},
   "outputs": [],
   "source": [
    "def sum_func(input_abs_diff):\n",
    "    sum = 0\n",
    "    for value in input_abs_diff:\n",
    "        sum += value\n",
    "    return sum"
   ]
  },
  {
   "cell_type": "code",
   "execution_count": 68,
   "metadata": {},
   "outputs": [],
   "source": [
    "col_1, col_2 = input_func(\"input-01.txt\")\n",
    "abs_diff = abs_diff_func(col_1, col_2)\n",
    "sum = sum_func(abs_diff)"
   ]
  },
  {
   "cell_type": "code",
   "execution_count": 69,
   "metadata": {},
   "outputs": [
    {
     "data": {
      "text/plain": [
       "1603498"
      ]
     },
     "execution_count": 69,
     "metadata": {},
     "output_type": "execute_result"
    }
   ],
   "source": [
    "sum"
   ]
  }
 ],
 "metadata": {
  "kernelspec": {
   "display_name": "Python 3",
   "language": "python",
   "name": "python3"
  },
  "language_info": {
   "codemirror_mode": {
    "name": "ipython",
    "version": 3
   },
   "file_extension": ".py",
   "mimetype": "text/x-python",
   "name": "python",
   "nbconvert_exporter": "python",
   "pygments_lexer": "ipython3",
   "version": "3.12.1"
  }
 },
 "nbformat": 4,
 "nbformat_minor": 2
}
