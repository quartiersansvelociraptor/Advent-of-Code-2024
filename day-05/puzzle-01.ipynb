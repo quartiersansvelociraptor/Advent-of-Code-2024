{
 "cells": [
  {
   "cell_type": "code",
   "execution_count": 1,
   "metadata": {},
   "outputs": [],
   "source": [
    "def read_file(path):\n",
    "    with open(path, \"r\") as readfile:\n",
    "        a = readfile.read()\n",
    "        lines = a.split(\"\\n\")\n",
    "    return lines"
   ]
  },
  {
   "cell_type": "code",
   "execution_count": 2,
   "metadata": {},
   "outputs": [],
   "source": [
    "def read_file_2(path):\n",
    "    data = []\n",
    "    with open(path, 'r') as f:\n",
    "        for line in f:\n",
    "            line = line.strip()  # Remove leading/trailing whitespace\n",
    "            numbers = [int(num) for num in line.split(',')]\n",
    "            data.append(numbers) \n",
    "    return data"
   ]
  },
  {
   "cell_type": "code",
   "execution_count": 3,
   "metadata": {},
   "outputs": [],
   "source": [
    "input_1 = read_file(\"input-01.txt\")\n",
    "input_2 = read_file_2(\"input-02.txt\")"
   ]
  },
  {
   "cell_type": "code",
   "execution_count": 4,
   "metadata": {},
   "outputs": [],
   "source": [
    "rule_before = []\n",
    "rule_after = []\n",
    "\n",
    "for value in input_1:\n",
    "    for index, char in enumerate(value):\n",
    "        if char == \"|\":\n",
    "            rule_before.append(int(value[:index]))\n",
    "            rule_after.append(int(value[index+1:]))"
   ]
  },
  {
   "cell_type": "code",
   "execution_count": 5,
   "metadata": {},
   "outputs": [],
   "source": [
    "count = 0\n",
    "not_valid_sublist = []\n",
    "\n",
    "for sublist in input_2:\n",
    "    for before, after in zip(rule_before, rule_after):\n",
    "        if before in sublist and after in sublist:\n",
    "            index_before = sublist.index(before)\n",
    "            index_after = sublist.index(after)\n",
    "            if index_before > index_after:\n",
    "                count = count + 1\n",
    "                not_valid_sublist.append(sublist)\n",
    "                break;"
   ]
  },
  {
   "cell_type": "code",
   "execution_count": 6,
   "metadata": {},
   "outputs": [],
   "source": [
    "valid_sublist = []\n",
    "\n",
    "for sublist in input_2:\n",
    "    if sublist not in not_valid_sublist:\n",
    "        valid_sublist.append(sublist)"
   ]
  },
  {
   "cell_type": "code",
   "execution_count": 7,
   "metadata": {},
   "outputs": [],
   "source": [
    "sum = 0\n",
    "\n",
    "for sublist in valid_sublist:\n",
    "    sum = sum + sublist[int((len(sublist)-1)/2)]"
   ]
  },
  {
   "cell_type": "code",
   "execution_count": 8,
   "metadata": {},
   "outputs": [],
   "source": [
    "sum;"
   ]
  }
 ],
 "metadata": {
  "kernelspec": {
   "display_name": "Python 3",
   "language": "python",
   "name": "python3"
  },
  "language_info": {
   "codemirror_mode": {
    "name": "ipython",
    "version": 3
   },
   "file_extension": ".py",
   "mimetype": "text/x-python",
   "name": "python",
   "nbconvert_exporter": "python",
   "pygments_lexer": "ipython3",
   "version": "3.12.1"
  }
 },
 "nbformat": 4,
 "nbformat_minor": 2
}
