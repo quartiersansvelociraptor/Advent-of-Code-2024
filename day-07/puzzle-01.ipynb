{
 "cells": [
  {
   "cell_type": "code",
   "execution_count": 1,
   "metadata": {},
   "outputs": [],
   "source": [
    "from itertools import permutations"
   ]
  },
  {
   "cell_type": "code",
   "execution_count": 2,
   "metadata": {},
   "outputs": [],
   "source": [
    "def read_file(path):\n",
    "    with open(path, \"r\") as readfile:\n",
    "        a = readfile.read()\n",
    "        lines = a.split(\"\\n\")\n",
    "    return lines"
   ]
  },
  {
   "cell_type": "code",
   "execution_count": 3,
   "metadata": {},
   "outputs": [],
   "source": [
    "input = read_file(\"input-01.txt\")"
   ]
  },
  {
   "cell_type": "code",
   "execution_count": 4,
   "metadata": {},
   "outputs": [],
   "source": [
    "left_side = []\n",
    "right_side = []\n",
    "\n",
    "for index_line, line in enumerate(input):\n",
    "    for index_char, char in enumerate(line):\n",
    "        if char == \":\":\n",
    "            left_side.append(int(line[:index_char]))\n",
    "            right_side_string = line[index_char+2:]\n",
    "            right_side.append([int(num) for num in right_side_string.split()])\n"
   ]
  },
  {
   "cell_type": "code",
   "execution_count": 7,
   "metadata": {},
   "outputs": [],
   "source": [
    "from itertools import permutations\n",
    "\n",
    "def calculate_all_combinations(nums):\n",
    "    # Recursive function to compute all combinations\n",
    "    def compute(nums):\n",
    "        if len(nums) == 1:\n",
    "            return {nums[0]}  # Base case: a single number, return it as a set\n",
    "        \n",
    "        results = set()\n",
    "        for i in range(1, len(nums)):\n",
    "            left = nums[:i]\n",
    "            right = nums[i:]\n",
    "            \n",
    "            # Calculate combinations for left and right parts\n",
    "            left_results = compute(left)\n",
    "            right_results = compute(right)\n",
    "            \n",
    "            # Combine each result from left and right\n",
    "            for l in left_results:\n",
    "                for r in right_results:\n",
    "                    results.add(l + r)  # Add\n",
    "                    results.add(l * r)  # Multiply\n",
    "        return results\n",
    "    \n",
    "    all_results = set()\n",
    "    # Generate permutations to consider all orders\n",
    "    for perm in permutations(nums):\n",
    "        all_results.update(compute(list(perm)))\n",
    "    return all_results"
   ]
  },
  {
   "cell_type": "code",
   "execution_count": null,
   "metadata": {},
   "outputs": [],
   "source": [
    "valid_sol = []\n",
    "\n",
    "for index, (results, combinations) in enumerate(zip(left_side, right_side)):\n",
    "    possible_outcomes = calculate_all_combinations(combinations)\n",
    "    print(str(index+1) + \"/\" + str(len(right_side)))\n",
    "    if results in possible_outcomes:\n",
    "        valid_sol.append(results)\n",
    "    else:\n",
    "        pass"
   ]
  }
 ],
 "metadata": {
  "kernelspec": {
   "display_name": "Python 3",
   "language": "python",
   "name": "python3"
  },
  "language_info": {
   "codemirror_mode": {
    "name": "ipython",
    "version": 3
   },
   "file_extension": ".py",
   "mimetype": "text/x-python",
   "name": "python",
   "nbconvert_exporter": "python",
   "pygments_lexer": "ipython3",
   "version": "3.12.1"
  }
 },
 "nbformat": 4,
 "nbformat_minor": 2
}
