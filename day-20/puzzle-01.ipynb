{
 "cells": [
  {
   "cell_type": "code",
   "execution_count": 1,
   "metadata": {},
   "outputs": [],
   "source": [
    "def read_file(path):\n",
    "    with open(path, \"r\") as readfile:\n",
    "        a = readfile.read()\n",
    "        lines = a.split(\"\\n\")\n",
    "    return lines"
   ]
  },
  {
   "cell_type": "code",
   "execution_count": 2,
   "metadata": {},
   "outputs": [],
   "source": [
    "input = read_file(\"example-01.txt\")"
   ]
  },
  {
   "cell_type": "code",
   "execution_count": 11,
   "metadata": {},
   "outputs": [
    {
     "data": {
      "text/plain": [
       "1"
      ]
     },
     "execution_count": 11,
     "metadata": {},
     "output_type": "execute_result"
    }
   ],
   "source": [
    "for ix, line in enumerate(input):\n",
    "    for iy, char in enumerate(line):\n",
    "        if char == \"S\":\n",
    "            start_coord = (ix,iy)\n",
    "        if char == \"E\":"
   ]
  },
  {
   "cell_type": "code",
   "execution_count": 8,
   "metadata": {},
   "outputs": [
    {
     "name": "stdout",
     "output_type": "stream",
     "text": [
      "Not in this line\n",
      "Not in this line\n",
      "Not in this line\n",
      "Not in this line\n",
      "Not in this line\n",
      "Not in this line\n",
      "Not in this line\n",
      "Not in this line\n",
      "Not in this line\n",
      "Not in this line\n",
      "Not in this line\n",
      "Not in this line\n",
      "Not in this line\n",
      "Not in this line\n"
     ]
    }
   ],
   "source": [
    "for line in input:\n",
    "    try:\n",
    "        line.index(\"S\")\n",
    "    except ValueError:\n",
    "        print(\"Not in this line\")\n"
   ]
  }
 ],
 "metadata": {
  "kernelspec": {
   "display_name": "Python 3",
   "language": "python",
   "name": "python3"
  },
  "language_info": {
   "codemirror_mode": {
    "name": "ipython",
    "version": 3
   },
   "file_extension": ".py",
   "mimetype": "text/x-python",
   "name": "python",
   "nbconvert_exporter": "python",
   "pygments_lexer": "ipython3",
   "version": "3.12.1"
  }
 },
 "nbformat": 4,
 "nbformat_minor": 2
}
