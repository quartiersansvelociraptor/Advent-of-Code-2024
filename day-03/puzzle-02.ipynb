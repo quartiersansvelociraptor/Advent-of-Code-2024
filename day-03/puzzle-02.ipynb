{
 "cells": [
  {
   "cell_type": "code",
   "execution_count": 43,
   "metadata": {},
   "outputs": [],
   "source": [
    "import re"
   ]
  },
  {
   "cell_type": "code",
   "execution_count": 50,
   "metadata": {},
   "outputs": [],
   "source": [
    "with open('example-02.txt', \"r\") as readfile:\n",
    "    input = readfile.read()"
   ]
  },
  {
   "cell_type": "code",
   "execution_count": 51,
   "metadata": {},
   "outputs": [],
   "source": [
    "pattern_mul = r\"mul\\(\\d+,\\d+\\)\"\n",
    "matches_mul = [match.start() for match in re.finditer(pattern_mul, input)]\n",
    "matches_mul_values = [(match.start(), match.group()) for match in re.finditer(pattern_mul, input)]\n",
    "\n",
    "pattern_do = r\"do\\(\\)\"\n",
    "matches_do = [match.start() for match in re.finditer(pattern_do, input)]\n",
    "\n",
    "pattern_dont = r\"\\bdon't\\(\\)\"\n",
    "matches_dont = [match.start() for match in re.finditer(pattern_dont, input)]"
   ]
  },
  {
   "cell_type": "code",
   "execution_count": 52,
   "metadata": {},
   "outputs": [
    {
     "data": {
      "text/plain": [
       "([1, 28, 48, 64], [59], [20])"
      ]
     },
     "execution_count": 52,
     "metadata": {},
     "output_type": "execute_result"
    }
   ],
   "source": [
    "matches_mul, matches_do, matches_dont"
   ]
  },
  {
   "cell_type": "code",
   "execution_count": null,
   "metadata": {},
   "outputs": [],
   "source": []
  },
  {
   "cell_type": "code",
   "execution_count": 47,
   "metadata": {},
   "outputs": [],
   "source": [
    "multiplications = []\n",
    "\n",
    "for pair in matches_mul_values:\n",
    "    if pair[0] in filtered_matches_mul:\n",
    "        multiplications.append(pair[1])"
   ]
  },
  {
   "cell_type": "code",
   "execution_count": 48,
   "metadata": {},
   "outputs": [],
   "source": [
    "positions = []\n",
    "sum = 0\n",
    "\n",
    "\n",
    "for string in multiplications:\n",
    "    for index, char in enumerate(string):\n",
    "        if char == '(':\n",
    "            positions.append(index)\n",
    "        if char == ',':\n",
    "            positions.append(index)\n",
    "        if char == ')':\n",
    "            positions.append(index)\n",
    "    number_1 = int(string[positions[0]+1:positions[1]])\n",
    "    number_2 = int(string[positions[1]+1:positions[2]])\n",
    "    product = number_1*number_2\n",
    "    sum += product\n",
    "    positions = []"
   ]
  },
  {
   "cell_type": "code",
   "execution_count": 49,
   "metadata": {},
   "outputs": [
    {
     "data": {
      "text/plain": [
       "186619028"
      ]
     },
     "execution_count": 49,
     "metadata": {},
     "output_type": "execute_result"
    }
   ],
   "source": [
    "sum"
   ]
  }
 ],
 "metadata": {
  "kernelspec": {
   "display_name": "Python 3",
   "language": "python",
   "name": "python3"
  },
  "language_info": {
   "codemirror_mode": {
    "name": "ipython",
    "version": 3
   },
   "file_extension": ".py",
   "mimetype": "text/x-python",
   "name": "python",
   "nbconvert_exporter": "python",
   "pygments_lexer": "ipython3",
   "version": "3.12.1"
  }
 },
 "nbformat": 4,
 "nbformat_minor": 2
}
