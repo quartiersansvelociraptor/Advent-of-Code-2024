{
 "cells": [
  {
   "cell_type": "code",
   "execution_count": 1,
   "metadata": {},
   "outputs": [],
   "source": [
    "import numpy as np"
   ]
  },
  {
   "cell_type": "code",
   "execution_count": 2,
   "metadata": {},
   "outputs": [],
   "source": [
    "def read_file(path):\n",
    "    with open(path, \"r\") as readfile:\n",
    "        a = readfile.read()\n",
    "        lines = a.split(\"\\n\")\n",
    "    return lines"
   ]
  },
  {
   "cell_type": "code",
   "execution_count": 3,
   "metadata": {},
   "outputs": [],
   "source": [
    "def extract_matrices(data_list):\n",
    "    # Extract values for the first matrix [X values, Y values]\n",
    "    matrix1 = [\n",
    "        [int(data_list[0].split('X+')[1].split(',')[0]), int(data_list[1].split('X+')[1].split(',')[0])],\n",
    "        [int(data_list[0].split('Y+')[1]), int(data_list[1].split('Y+')[1])]\n",
    "    ]\n",
    "\n",
    "    # Extract values for the second matrix [Prize X, Prize Y]\n",
    "    matrix2 = [int(data_list[2].split('X=')[1].split(',')[0]), int(data_list[2].split('Y=')[1])]\n",
    "\n",
    "    return np.array(matrix1), np.array(matrix2)"
   ]
  },
  {
   "cell_type": "code",
   "execution_count": 4,
   "metadata": {},
   "outputs": [],
   "source": [
    "data = read_file(\"input-01.txt\")"
   ]
  },
  {
   "cell_type": "code",
   "execution_count": 5,
   "metadata": {},
   "outputs": [],
   "source": [
    "# Grouping the data into sublists\n",
    "grouped_data = []\n",
    "temp_group = []\n",
    "\n",
    "for item in data:\n",
    "    if item:  # Non-empty string\n",
    "        temp_group.append(item)\n",
    "    else:  # Empty string indicates end of a group\n",
    "        if temp_group:  # Avoid adding empty groups\n",
    "            grouped_data.append(temp_group)\n",
    "            temp_group = []\n",
    "\n",
    "# Add the last group if it exists\n",
    "if temp_group:\n",
    "    grouped_data.append(temp_group)"
   ]
  },
  {
   "cell_type": "code",
   "execution_count": 6,
   "metadata": {},
   "outputs": [],
   "source": [
    "solution_full = []\n",
    "\n",
    "for data in grouped_data:\n",
    "    first_list = data\n",
    "    matrix1, matrix2 = extract_matrices(first_list)\n",
    "    solution = np.linalg.solve(matrix1, matrix2)\n",
    "    is_integer_solution = np.all(np.isclose(solution, np.round(solution)))\n",
    "    if is_integer_solution:\n",
    "        solution_full.append(solution)"
   ]
  },
  {
   "cell_type": "code",
   "execution_count": 7,
   "metadata": {},
   "outputs": [
    {
     "name": "stdout",
     "output_type": "stream",
     "text": [
      "196.0\n",
      "454.0\n",
      "524.0\n",
      "851.0\n",
      "1186.0\n",
      "1425.0\n",
      "1484.0\n",
      "1587.0\n",
      "1779.0\n",
      "1934.0\n",
      "2022.0\n",
      "2140.0\n",
      "2370.0\n",
      "2498.0\n",
      "2640.0\n",
      "2804.0\n",
      "3020.0\n",
      "3171.0\n",
      "3390.0\n",
      "3581.0\n",
      "3677.0\n",
      "4009.0\n",
      "4270.0\n",
      "4554.0\n",
      "4717.0\n",
      "4914.0\n",
      "5249.0\n",
      "5439.0\n",
      "5705.0\n",
      "5860.0\n",
      "6019.0\n",
      "6152.0\n",
      "6479.0\n",
      "6615.0\n",
      "6886.0\n",
      "7111.0\n",
      "7343.0\n",
      "7633.0\n",
      "7863.0\n",
      "7988.0\n",
      "8074.0\n",
      "8321.0\n",
      "8626.0\n",
      "8905.0\n",
      "9156.0\n",
      "9239.0\n",
      "9503.0\n",
      "9828.0\n",
      "9993.0\n",
      "10314.0\n",
      "10468.0\n",
      "10858.0\n",
      "11055.0\n",
      "11364.0\n",
      "11610.0\n",
      "11873.0\n",
      "12158.0\n",
      "12343.0\n",
      "12674.0\n",
      "12834.0\n",
      "12949.0\n",
      "13095.0\n",
      "13271.0\n",
      "13645.0\n",
      "13761.0\n",
      "14044.0\n",
      "14131.0\n",
      "14365.0\n",
      "14579.0\n",
      "14827.0\n",
      "15089.0\n",
      "15281.0\n",
      "15508.0\n",
      "15788.0\n",
      "15968.0\n",
      "16287.0\n",
      "16642.0\n",
      "16709.0\n",
      "16988.0\n",
      "17179.0\n",
      "17395.0\n",
      "17659.0\n",
      "18008.0\n",
      "18161.0\n",
      "18379.0\n",
      "18415.0\n",
      "18522.0\n",
      "18674.0\n",
      "18870.0\n",
      "19198.0\n",
      "19239.0\n",
      "19381.0\n",
      "19586.0\n",
      "19800.0\n",
      "19916.0\n",
      "20247.0\n",
      "20489.0\n",
      "20579.0\n",
      "20655.0\n",
      "20943.0\n",
      "21052.0\n",
      "21093.0\n",
      "21305.0\n",
      "21488.0\n",
      "21713.0\n",
      "21792.0\n",
      "21896.0\n",
      "22136.0\n",
      "22350.0\n",
      "22483.0\n",
      "22536.0\n",
      "22747.0\n",
      "22881.0\n",
      "23122.0\n",
      "23323.0\n",
      "23659.0\n",
      "23899.0\n",
      "24099.0\n",
      "24278.0\n",
      "24489.0\n",
      "24537.0\n",
      "24616.0\n",
      "24820.0\n",
      "24966.0\n",
      "25284.0\n",
      "25412.0\n",
      "25531.0\n",
      "25629.0\n"
     ]
    }
   ],
   "source": [
    "sum = 0\n",
    "\n",
    "for array in solution_full:\n",
    "    sum += (3*array[0] + array[1])\n",
    "    print(sum)\n"
   ]
  },
  {
   "cell_type": "code",
   "execution_count": 8,
   "metadata": {},
   "outputs": [
    {
     "data": {
      "text/plain": [
       "np.float64(25629.0)"
      ]
     },
     "execution_count": 8,
     "metadata": {},
     "output_type": "execute_result"
    }
   ],
   "source": [
    "sum"
   ]
  }
 ],
 "metadata": {
  "kernelspec": {
   "display_name": "Python 3",
   "language": "python",
   "name": "python3"
  },
  "language_info": {
   "codemirror_mode": {
    "name": "ipython",
    "version": 3
   },
   "file_extension": ".py",
   "mimetype": "text/x-python",
   "name": "python",
   "nbconvert_exporter": "python",
   "pygments_lexer": "ipython3",
   "version": "3.12.1"
  }
 },
 "nbformat": 4,
 "nbformat_minor": 2
}
