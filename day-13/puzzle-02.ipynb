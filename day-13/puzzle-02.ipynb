{
 "cells": [
  {
   "cell_type": "code",
   "execution_count": 1,
   "metadata": {},
   "outputs": [],
   "source": [
    "import numpy as np"
   ]
  },
  {
   "cell_type": "code",
   "execution_count": 2,
   "metadata": {},
   "outputs": [],
   "source": [
    "def read_file(path):\n",
    "    with open(path, \"r\") as readfile:\n",
    "        a = readfile.read()\n",
    "        lines = a.split(\"\\n\")\n",
    "    return lines"
   ]
  },
  {
   "cell_type": "code",
   "execution_count": 14,
   "metadata": {},
   "outputs": [],
   "source": [
    "def extract_matrices(data_list):\n",
    "    # Extract values for the first matrix [X values, Y values]\n",
    "    matrix1 = [\n",
    "        [int(data_list[0].split('X+')[1].split(',')[0]), int(data_list[1].split('X+')[1].split(',')[0])],\n",
    "        [int(data_list[0].split('Y+')[1]), int(data_list[1].split('Y+')[1])]\n",
    "    ]\n",
    "\n",
    "    # Extract values for the second matrix [Prize X, Prize Y]\n",
    "    matrix2 = [10000000000000 + int(data_list[2].split('X=')[1].split(',')[0]), 10000000000000 + int(data_list[2].split('Y=')[1])]\n",
    "\n",
    "    return np.array(matrix1), np.array(matrix2)"
   ]
  },
  {
   "cell_type": "code",
   "execution_count": 15,
   "metadata": {},
   "outputs": [],
   "source": [
    "data = read_file(\"example-01.txt\")"
   ]
  },
  {
   "cell_type": "code",
   "execution_count": 16,
   "metadata": {},
   "outputs": [],
   "source": [
    "# Grouping the data into sublists\n",
    "grouped_data = []\n",
    "temp_group = []\n",
    "\n",
    "for item in data:\n",
    "    if item:  # Non-empty string\n",
    "        temp_group.append(item)\n",
    "    else:  # Empty string indicates end of a group\n",
    "        if temp_group:  # Avoid adding empty groups\n",
    "            grouped_data.append(temp_group)\n",
    "            temp_group = []\n",
    "\n",
    "# Add the last group if it exists\n",
    "if temp_group:\n",
    "    grouped_data.append(temp_group)"
   ]
  },
  {
   "cell_type": "code",
   "execution_count": 21,
   "metadata": {},
   "outputs": [
    {
     "name": "stdout",
     "output_type": "stream",
     "text": [
      "[8.10810812e+10 1.08108108e+11] True\n",
      "[1.18679051e+11 1.03199175e+11] True\n",
      "[7.12661107e+10 1.04624716e+11] True\n",
      "[1.02851800e+11 1.07526882e+11] True\n"
     ]
    }
   ],
   "source": [
    "solution_full = []\n",
    "\n",
    "for data in grouped_data:\n",
    "    first_list = data\n",
    "    matrix1, matrix2 = extract_matrices(first_list)\n",
    "    solution = np.linalg.solve(matrix1, matrix2)\n",
    "    is_integer_solution = np.all(np.isclose(solution, np.round(solution)))\n",
    "    print(solution, is_integer_solution)\n",
    "    if is_integer_solution:\n",
    "        solution_full.append(solution)\n",
    "    "
   ]
  },
  {
   "cell_type": "code",
   "execution_count": 19,
   "metadata": {},
   "outputs": [
    {
     "name": "stdout",
     "output_type": "stream",
     "text": [
      "351351351631.3513\n",
      "810587678300.3513\n",
      "1129010726263.8086\n",
      "1545093008502.8086\n"
     ]
    }
   ],
   "source": [
    "sum = 0\n",
    "\n",
    "for array in solution_full:\n",
    "    sum += (3*array[0] + array[1])\n",
    "    print(sum)\n"
   ]
  },
  {
   "cell_type": "code",
   "execution_count": 20,
   "metadata": {},
   "outputs": [
    {
     "data": {
      "text/plain": [
       "np.float64(1545093008502.8086)"
      ]
     },
     "execution_count": 20,
     "metadata": {},
     "output_type": "execute_result"
    }
   ],
   "source": [
    "sum"
   ]
  }
 ],
 "metadata": {
  "kernelspec": {
   "display_name": "Python 3",
   "language": "python",
   "name": "python3"
  },
  "language_info": {
   "codemirror_mode": {
    "name": "ipython",
    "version": 3
   },
   "file_extension": ".py",
   "mimetype": "text/x-python",
   "name": "python",
   "nbconvert_exporter": "python",
   "pygments_lexer": "ipython3",
   "version": "3.12.1"
  }
 },
 "nbformat": 4,
 "nbformat_minor": 2
}
