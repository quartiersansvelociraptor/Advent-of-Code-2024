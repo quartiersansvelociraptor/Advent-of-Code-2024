{
 "cells": [
  {
   "cell_type": "code",
   "execution_count": 2,
   "metadata": {},
   "outputs": [],
   "source": [
    "def read_file(path):\n",
    "    with open(path, \"r\") as readfile:\n",
    "        a = readfile.read()\n",
    "        lines = a.split(\"\\n\")\n",
    "    return lines"
   ]
  },
  {
   "cell_type": "code",
   "execution_count": 3,
   "metadata": {},
   "outputs": [],
   "source": [
    "input = read_file(\"example-01.txt\")"
   ]
  },
  {
   "cell_type": "code",
   "execution_count": 6,
   "metadata": {},
   "outputs": [],
   "source": [
    "letters_unique = []\n",
    "\n",
    "for ix, line in enumerate(input):\n",
    "    for iy, char in enumerate(line):\n",
    "        if char not in letters_unique:\n",
    "            letters_unique.append(char)\n",
    "\n",
    "letters_dict = {key: [] for key in letters_unique}"
   ]
  },
  {
   "cell_type": "code",
   "execution_count": null,
   "metadata": {},
   "outputs": [],
   "source": [
    "for letter in letters_unique:\n",
    "    for ix, line in enumerate(input):\n",
    "        for iy, line in enumerate(line):\n",
    "            if char in letter"
   ]
  },
  {
   "cell_type": "code",
   "execution_count": 9,
   "metadata": {},
   "outputs": [],
   "source": [
    "letter_coordinate = []\n",
    "full_coordinate = []\n",
    "\n",
    "for letter in letters_unique:\n",
    "    for ix, line in enumerate(input):\n",
    "        for iy, char in enumerate(line):\n",
    "            if char == letter:\n",
    "                letter_coordinate.append((ix,iy))\n",
    "    full_coordinate.append(letter_coordinate)\n",
    "    letter_coordinate = []"
   ]
  },
  {
   "cell_type": "code",
   "execution_count": 10,
   "metadata": {},
   "outputs": [
    {
     "data": {
      "text/plain": [
       "[[(0, 0), (0, 1), (0, 2), (0, 3)],\n",
       " [(1, 0), (1, 1), (2, 0), (2, 1)],\n",
       " [(1, 2), (2, 2), (2, 3), (3, 3)],\n",
       " [(1, 3)],\n",
       " [(3, 0), (3, 1), (3, 2)]]"
      ]
     },
     "execution_count": 10,
     "metadata": {},
     "output_type": "execute_result"
    }
   ],
   "source": [
    "full_coordinate"
   ]
  },
  {
   "cell_type": "code",
   "execution_count": null,
   "metadata": {},
   "outputs": [],
   "source": [
    "for letter_coordinate in full_coordinate:\n",
    "    for coordinate_1 in letter_coordinate:\n",
    "        for coordinate_2 in letter_coordinate:\n",
    "            diff = (coordinate_2[0] - coordinate_1[0], coordinate_2[1] - coordinate_1[1])\n",
    "            if diff[0] "
   ]
  }
 ],
 "metadata": {
  "kernelspec": {
   "display_name": "Python 3",
   "language": "python",
   "name": "python3"
  },
  "language_info": {
   "codemirror_mode": {
    "name": "ipython",
    "version": 3
   },
   "file_extension": ".py",
   "mimetype": "text/x-python",
   "name": "python",
   "nbconvert_exporter": "python",
   "pygments_lexer": "ipython3",
   "version": "3.12.1"
  }
 },
 "nbformat": 4,
 "nbformat_minor": 2
}
